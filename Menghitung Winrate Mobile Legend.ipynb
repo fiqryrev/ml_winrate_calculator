{
 "cells": [
  {
   "cell_type": "markdown",
   "metadata": {},
   "source": [
    "# Menghitung Winrate di Mobile Legend\n",
    "## v1.01\n",
    "### https://github.com/fiqryrev/ml_winrate_calculator"
   ]
  },
  {
   "cell_type": "code",
   "execution_count": 1,
   "metadata": {},
   "outputs": [],
   "source": [
    "import numpy as np\n",
    "import pandas as pd"
   ]
  },
  {
   "cell_type": "code",
   "execution_count": 2,
   "metadata": {},
   "outputs": [],
   "source": [
    "def hitung_winrate(mode=\"wr\"):\n",
    "    # Basic Configuration\n",
    "    ## reversed_logic adalah boolean untuk melihat apakah ingin menghitung naik/turun winrate, default=False\n",
    "    reversed_logic = False\n",
    "    # Match mode\n",
    "    if mode == \"match\":\n",
    "        try:\n",
    "            win_sekarang = int(input(\"Masukan total Win sekarang: \"))\n",
    "            total_match = int(input(\"Masukan total Match sekarang: \"))\n",
    "            winrate_boundary = float(input(\"Masukan winrate yang diinginkan (0 - 100): \"))\n",
    "        except:\n",
    "            print(\"Input harus angka\")\n",
    "            return(\"\")\n",
    "        \n",
    "    elif mode == \"wr\":\n",
    "        try:\n",
    "            total_match = int(input(\"Masukan total Match sekarang: \"))\n",
    "            winrate_now = float(input(\"Masukan winrate sekarang (0 - 100): \"))\n",
    "            winrate_boundary = float(input(\"Masukan winrate yang diinginkan (0 - 100): \"))\n",
    "        except:\n",
    "            print(\"Input harus angka\")\n",
    "            return(\"\")\n",
    "        assert 0<=winrate_now<=100, \"Win Rate should be between 0 - 100\"\n",
    "        win_sekarang = int(total_match*winrate_now/100)\n",
    "    else:\n",
    "        print(\"Mode salah, gunakan 'match' / 'wr'\")\n",
    "        return(\"\")\n",
    "    \n",
    "    # Logic Validasi Input\n",
    "    assert win_sekarang > 0, \"Win match should not be higher than 0\"\n",
    "    assert total_match > 0, \"Total match should not be higher than 0\"\n",
    "    assert win_sekarang <= total_match, \"Win match should not be higher than total match\"\n",
    "    assert 0<=winrate_boundary<=100, \"Win Rate should be between 0 - 100\"\n",
    "    \n",
    "    # Jika win rate sekarang lebih kecil dari harapan win rate: Mode penurunan WR\n",
    "    if 100.00*win_sekarang/total_match >= winrate_boundary:\n",
    "        reversed_logic = True\n",
    "\n",
    "    temp_win = win_sekarang\n",
    "    temp_match = total_match\n",
    "    \n",
    "    # Menggunakan while Loop untuk menghitung total win/lose yg dibutuhkan\n",
    "    if reversed_logic != True:\n",
    "        while True:\n",
    "            temp_win += 1\n",
    "            temp_match += 1\n",
    "            temp_winrate = 100.00*temp_win/temp_match\n",
    "            if temp_winrate >= winrate_boundary:\n",
    "                break\n",
    "        need_to_win = temp_win - win_sekarang\n",
    "        print(f\"Kamu membutuhkan setidaknya {need_to_win} total win match tanpa ada satu match kalah untuk bisa mencapai winrate {winrate_boundary}%\")\n",
    "        print(f\"Sehingga total win kamu adalah {temp_win} dari {temp_match} total match\")\n",
    "    else:\n",
    "        while True:\n",
    "            temp_win += 0\n",
    "            temp_match += 1\n",
    "            temp_winrate = 100.00*temp_win/temp_match\n",
    "            if temp_winrate <= winrate_boundary:\n",
    "                break\n",
    "        need_to_lose = temp_match - total_match\n",
    "        print(f\"Kamu membutuhkan setidaknya {need_to_lose} total lose match tanpa ada satu match menang untuk bisa mencapai winrate {winrate_boundary}%\")\n",
    "        print(f\"Sehingga total win kamu adalah {temp_win} dari {temp_match} total match\")"
   ]
  },
  {
   "cell_type": "code",
   "execution_count": 3,
   "metadata": {},
   "outputs": [],
   "source": [
    "def hitung_winrate_table( total_match,\n",
    "                          winrate_now,\n",
    "                          winrate_boundary):\n",
    "    # v1.02: Updated \n",
    "    # Keterangan sama dengan fungsi sebelumnya\n",
    "    \n",
    "    reversed_logic = False\n",
    "    win_sekarang = int(total_match*winrate_now/100)\n",
    "    \n",
    "    if 100.00*win_sekarang/total_match >= winrate_boundary:\n",
    "        reversed_logic = True\n",
    "\n",
    "    temp_win = win_sekarang\n",
    "    temp_match = total_match\n",
    "\n",
    "    if reversed_logic != True:\n",
    "        while True:\n",
    "            temp_win += 1\n",
    "            temp_match += 1\n",
    "            temp_winrate = 100.00*temp_win/temp_match\n",
    "            if temp_winrate >= winrate_boundary:\n",
    "                break\n",
    "        need_to_win = temp_win - win_sekarang\n",
    "        return(need_to_win)\n",
    "    else:\n",
    "        while True:\n",
    "            temp_win += 0\n",
    "            temp_match += 1\n",
    "            temp_winrate = 100.00*temp_win/temp_match\n",
    "            if temp_winrate <= winrate_boundary:\n",
    "                break\n",
    "        need_to_lose = temp_match - total_match\n",
    "        return(need_to_lose)"
   ]
  },
  {
   "cell_type": "markdown",
   "metadata": {},
   "source": [
    "## Edisi Ingin Naikin WR"
   ]
  },
  {
   "cell_type": "code",
   "execution_count": 4,
   "metadata": {},
   "outputs": [
    {
     "name": "stdout",
     "output_type": "stream",
     "text": [
      "Masukan total Match sekarang: 1207\n",
      "Masukan winrate sekarang (0 - 100): 61.1\n",
      "Masukan winrate yang diinginkan (0 - 100): 65\n",
      "Kamu membutuhkan setidaknya 136 total win match tanpa ada satu match kalah untuk bisa mencapai winrate 65.0%\n",
      "Sehingga total win kamu adalah 873 dari 1343 total match\n"
     ]
    }
   ],
   "source": [
    "#### Guinevere\n",
    "# Total Match = 1207\n",
    "# Winrate     = 61.1%\n",
    "\n",
    "hitung_winrate()"
   ]
  },
  {
   "cell_type": "code",
   "execution_count": 5,
   "metadata": {},
   "outputs": [
    {
     "name": "stdout",
     "output_type": "stream",
     "text": [
      "Masukan total Match sekarang: 246\n",
      "Masukan winrate sekarang (0 - 100): 57.3\n",
      "Masukan winrate yang diinginkan (0 - 100): 60\n",
      "Kamu membutuhkan setidaknya 19 total win match tanpa ada satu match kalah untuk bisa mencapai winrate 60.0%\n",
      "Sehingga total win kamu adalah 159 dari 265 total match\n"
     ]
    }
   ],
   "source": [
    "# Kufra\n",
    "# Total Match = 246\n",
    "# Winrate     = 57.3\n",
    "\n",
    "hitung_winrate()"
   ]
  },
  {
   "cell_type": "code",
   "execution_count": 6,
   "metadata": {},
   "outputs": [
    {
     "name": "stdout",
     "output_type": "stream",
     "text": [
      "Masukan total Win sekarang: 50\n",
      "Masukan total Match sekarang: 100\n",
      "Masukan winrate yang diinginkan (0 - 100): 80\n",
      "Kamu membutuhkan setidaknya 150 total win match tanpa ada satu match kalah untuk bisa mencapai winrate 80.0%\n",
      "Sehingga total win kamu adalah 200 dari 250 total match\n"
     ]
    }
   ],
   "source": [
    "#### Zilong\n",
    "# Total Match = 100\n",
    "# Total Win   = 50\n",
    "\n",
    "hitung_winrate(mode=\"match\")"
   ]
  },
  {
   "cell_type": "markdown",
   "metadata": {},
   "source": [
    "## Edisi Ingin Turunin WR"
   ]
  },
  {
   "cell_type": "code",
   "execution_count": 7,
   "metadata": {},
   "outputs": [
    {
     "name": "stdout",
     "output_type": "stream",
     "text": [
      "Masukan total Win sekarang: 80\n",
      "Masukan total Match sekarang: 100\n",
      "Masukan winrate yang diinginkan (0 - 100): 50\n",
      "Kamu membutuhkan setidaknya 60 total lose match tanpa ada satu match menang untuk bisa mencapai winrate 50.0%\n",
      "Sehingga total win kamu adalah 80 dari 160 total match\n"
     ]
    }
   ],
   "source": [
    "#### Nana\n",
    "# Total Match = 100\n",
    "# Total Win   = 80\n",
    "# Harapan WR  = 50%\n",
    "\n",
    "hitung_winrate(mode=\"match\")"
   ]
  },
  {
   "cell_type": "markdown",
   "metadata": {},
   "source": [
    "# Excel-based Data"
   ]
  },
  {
   "cell_type": "code",
   "execution_count": 8,
   "metadata": {},
   "outputs": [
    {
     "data": {
      "text/html": [
       "<div>\n",
       "<style scoped>\n",
       "    .dataframe tbody tr th:only-of-type {\n",
       "        vertical-align: middle;\n",
       "    }\n",
       "\n",
       "    .dataframe tbody tr th {\n",
       "        vertical-align: top;\n",
       "    }\n",
       "\n",
       "    .dataframe thead th {\n",
       "        text-align: right;\n",
       "    }\n",
       "</style>\n",
       "<table border=\"1\" class=\"dataframe\">\n",
       "  <thead>\n",
       "    <tr style=\"text-align: right;\">\n",
       "      <th></th>\n",
       "      <th>hero</th>\n",
       "      <th>total_match</th>\n",
       "      <th>current_winrate</th>\n",
       "    </tr>\n",
       "  </thead>\n",
       "  <tbody>\n",
       "    <tr>\n",
       "      <th>0</th>\n",
       "      <td>gusion</td>\n",
       "      <td>555</td>\n",
       "      <td>57.5</td>\n",
       "    </tr>\n",
       "    <tr>\n",
       "      <th>1</th>\n",
       "      <td>leomord</td>\n",
       "      <td>492</td>\n",
       "      <td>55.5</td>\n",
       "    </tr>\n",
       "    <tr>\n",
       "      <th>2</th>\n",
       "      <td>yuzong</td>\n",
       "      <td>451</td>\n",
       "      <td>58.8</td>\n",
       "    </tr>\n",
       "    <tr>\n",
       "      <th>3</th>\n",
       "      <td>kaja</td>\n",
       "      <td>346</td>\n",
       "      <td>57.5</td>\n",
       "    </tr>\n",
       "    <tr>\n",
       "      <th>4</th>\n",
       "      <td>khufra</td>\n",
       "      <td>313</td>\n",
       "      <td>59.4</td>\n",
       "    </tr>\n",
       "    <tr>\n",
       "      <th>5</th>\n",
       "      <td>granger</td>\n",
       "      <td>269</td>\n",
       "      <td>49.8</td>\n",
       "    </tr>\n",
       "    <tr>\n",
       "      <th>6</th>\n",
       "      <td>khaleed</td>\n",
       "      <td>237</td>\n",
       "      <td>58.6</td>\n",
       "    </tr>\n",
       "  </tbody>\n",
       "</table>\n",
       "</div>"
      ],
      "text/plain": [
       "      hero  total_match  current_winrate\n",
       "0   gusion          555             57.5\n",
       "1  leomord          492             55.5\n",
       "2   yuzong          451             58.8\n",
       "3     kaja          346             57.5\n",
       "4   khufra          313             59.4\n",
       "5  granger          269             49.8\n",
       "6  khaleed          237             58.6"
      ]
     },
     "execution_count": 8,
     "metadata": {},
     "output_type": "execute_result"
    }
   ],
   "source": [
    "df_aa = pd.DataFrame(np.array([[\"gusion\",555,57.5],\n",
    "                               [\"leomord\",492,55.5],\n",
    "                               [\"yuzong\",451,58.8],\n",
    "                               [\"kaja\",346,57.5],\n",
    "                               [\"khufra\",313,59.4],\n",
    "                               [\"granger\",269,49.8],\n",
    "                               [\"khaleed\",237,58.6]]),\n",
    "                     columns=[\"hero\",\"total_match\",\"current_winrate\"])\n",
    "df_aa[\"total_match\"]     = df_aa[\"total_match\"].astype(int) \n",
    "df_aa[\"current_winrate\"] = df_aa[\"current_winrate\"].astype(float)\n",
    "df_aa"
   ]
  },
  {
   "cell_type": "code",
   "execution_count": 9,
   "metadata": {},
   "outputs": [],
   "source": [
    "# Harapan Win Rate\n",
    "expected_winrate = 60.0"
   ]
  },
  {
   "cell_type": "code",
   "execution_count": 10,
   "metadata": {},
   "outputs": [
    {
     "data": {
      "text/html": [
       "<div>\n",
       "<style scoped>\n",
       "    .dataframe tbody tr th:only-of-type {\n",
       "        vertical-align: middle;\n",
       "    }\n",
       "\n",
       "    .dataframe tbody tr th {\n",
       "        vertical-align: top;\n",
       "    }\n",
       "\n",
       "    .dataframe thead th {\n",
       "        text-align: right;\n",
       "    }\n",
       "</style>\n",
       "<table border=\"1\" class=\"dataframe\">\n",
       "  <thead>\n",
       "    <tr style=\"text-align: right;\">\n",
       "      <th></th>\n",
       "      <th>hero</th>\n",
       "      <th>total_match</th>\n",
       "      <th>current_winrate</th>\n",
       "      <th>expected_winrate</th>\n",
       "      <th>total_win_needed</th>\n",
       "    </tr>\n",
       "  </thead>\n",
       "  <tbody>\n",
       "    <tr>\n",
       "      <th>0</th>\n",
       "      <td>gusion</td>\n",
       "      <td>555</td>\n",
       "      <td>57.5</td>\n",
       "      <td>60.0</td>\n",
       "      <td>35</td>\n",
       "    </tr>\n",
       "    <tr>\n",
       "      <th>1</th>\n",
       "      <td>leomord</td>\n",
       "      <td>492</td>\n",
       "      <td>55.5</td>\n",
       "      <td>60.0</td>\n",
       "      <td>56</td>\n",
       "    </tr>\n",
       "    <tr>\n",
       "      <th>2</th>\n",
       "      <td>yuzong</td>\n",
       "      <td>451</td>\n",
       "      <td>58.8</td>\n",
       "      <td>60.0</td>\n",
       "      <td>14</td>\n",
       "    </tr>\n",
       "    <tr>\n",
       "      <th>3</th>\n",
       "      <td>kaja</td>\n",
       "      <td>346</td>\n",
       "      <td>57.5</td>\n",
       "      <td>60.0</td>\n",
       "      <td>24</td>\n",
       "    </tr>\n",
       "    <tr>\n",
       "      <th>4</th>\n",
       "      <td>khufra</td>\n",
       "      <td>313</td>\n",
       "      <td>59.4</td>\n",
       "      <td>60.0</td>\n",
       "      <td>7</td>\n",
       "    </tr>\n",
       "    <tr>\n",
       "      <th>5</th>\n",
       "      <td>granger</td>\n",
       "      <td>269</td>\n",
       "      <td>49.8</td>\n",
       "      <td>60.0</td>\n",
       "      <td>71</td>\n",
       "    </tr>\n",
       "    <tr>\n",
       "      <th>6</th>\n",
       "      <td>khaleed</td>\n",
       "      <td>237</td>\n",
       "      <td>58.6</td>\n",
       "      <td>60.0</td>\n",
       "      <td>11</td>\n",
       "    </tr>\n",
       "  </tbody>\n",
       "</table>\n",
       "</div>"
      ],
      "text/plain": [
       "      hero  total_match  current_winrate  expected_winrate  total_win_needed\n",
       "0   gusion          555             57.5              60.0                35\n",
       "1  leomord          492             55.5              60.0                56\n",
       "2   yuzong          451             58.8              60.0                14\n",
       "3     kaja          346             57.5              60.0                24\n",
       "4   khufra          313             59.4              60.0                 7\n",
       "5  granger          269             49.8              60.0                71\n",
       "6  khaleed          237             58.6              60.0                11"
      ]
     },
     "execution_count": 10,
     "metadata": {},
     "output_type": "execute_result"
    }
   ],
   "source": [
    "bracket = [expected_winrate]*df_aa.shape[0]\n",
    "win_needed = []\n",
    "for i in range(df_aa.shape[0]):\n",
    "    win_needed.append(hitung_winrate_table(df_aa[\"total_match\"].iloc[i],df_aa[\"current_winrate\"].iloc[i],bracket[i]))\n",
    "    \n",
    "df_aa[\"expected_winrate\"] = bracket\n",
    "df_aa[\"total_win_needed\"] = win_needed\n",
    "\n",
    "df_aa"
   ]
  }
 ],
 "metadata": {
  "kernelspec": {
   "display_name": "Python 3",
   "language": "python",
   "name": "python3"
  },
  "language_info": {
   "codemirror_mode": {
    "name": "ipython",
    "version": 3
   },
   "file_extension": ".py",
   "mimetype": "text/x-python",
   "name": "python",
   "nbconvert_exporter": "python",
   "pygments_lexer": "ipython3",
   "version": "3.7.4"
  }
 },
 "nbformat": 4,
 "nbformat_minor": 2
}
